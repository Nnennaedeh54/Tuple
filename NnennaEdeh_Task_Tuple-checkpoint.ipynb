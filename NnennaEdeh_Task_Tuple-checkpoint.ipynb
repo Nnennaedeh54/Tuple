{
 "cells": [
  {
   "cell_type": "markdown",
   "id": "c8ad5638",
   "metadata": {},
   "source": [
    "# 5 tuple method\n",
    "Index()\n",
    "Count()\n",
    "len()\n",
    "Max()\n",
    "Min()\n",
    "\n"
   ]
  },
  {
   "cell_type": "code",
   "execution_count": 2,
   "id": "d4557138",
   "metadata": {},
   "outputs": [
    {
     "name": "stdout",
     "output_type": "stream",
     "text": [
      "Jude\n"
     ]
    }
   ],
   "source": [
    "#Index: Searches the tuple for a specified value. example\n",
    "x = ('John', 'Jude', 'Nnenna', 'Amaka')\n",
    "print(x[1])\n"
   ]
  },
  {
   "cell_type": "code",
   "execution_count": 3,
   "id": "08787acc",
   "metadata": {},
   "outputs": [
    {
     "name": "stdout",
     "output_type": "stream",
     "text": [
      "2\n"
     ]
    }
   ],
   "source": [
    "#Count: returns the number of times a specified value occurs. Example\n",
    "student = (1,2,5,6,3,2,8,7)\n",
    "x = student.count(2)\n",
    "print(x)"
   ]
  },
  {
   "cell_type": "code",
   "execution_count": 4,
   "id": "6612ae64",
   "metadata": {},
   "outputs": [
    {
     "name": "stdout",
     "output_type": "stream",
     "text": [
      "5\n"
     ]
    }
   ],
   "source": [
    "#len:it returns the number of element in a tuple. Example\n",
    "y = (3, 2,8,6,9)\n",
    "print(len(y))"
   ]
  },
  {
   "cell_type": "code",
   "execution_count": 5,
   "id": "bbd856d5",
   "metadata": {},
   "outputs": [
    {
     "name": "stdout",
     "output_type": "stream",
     "text": [
      "7\n"
     ]
    }
   ],
   "source": [
    "#max():this method returns the largest element of a tuple. it works if tuple contains all value of same type\n",
    "y = (1,3,2,7)\n",
    "print(max(y))"
   ]
  },
  {
   "cell_type": "code",
   "execution_count": 7,
   "id": "3d4f71fd",
   "metadata": {},
   "outputs": [
    {
     "name": "stdout",
     "output_type": "stream",
     "text": [
      "1\n"
     ]
    }
   ],
   "source": [
    "#min(): this method returns the smallest of a tuple and must have all value of same type\n",
    "y = (1,3,2,7)\n",
    "print(min(y))"
   ]
  },
  {
   "cell_type": "code",
   "execution_count": null,
   "id": "4cecf001",
   "metadata": {},
   "outputs": [],
   "source": []
  }
 ],
 "metadata": {
  "kernelspec": {
   "display_name": "Python 3 (ipykernel)",
   "language": "python",
   "name": "python3"
  },
  "language_info": {
   "codemirror_mode": {
    "name": "ipython",
    "version": 3
   },
   "file_extension": ".py",
   "mimetype": "text/x-python",
   "name": "python",
   "nbconvert_exporter": "python",
   "pygments_lexer": "ipython3",
   "version": "3.9.13"
  }
 },
 "nbformat": 4,
 "nbformat_minor": 5
}
